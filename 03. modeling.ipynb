{
 "cells": [
  {
   "cell_type": "markdown",
   "metadata": {},
   "source": [
    "## Base model 생성"
   ]
  },
  {
   "cell_type": "code",
   "execution_count": 1,
   "metadata": {},
   "outputs": [],
   "source": [
    "## 모듈 임포트\n",
    "from sklearn.model_selection import train_test_split  ## train test \n",
    "\n",
    "from sklearn.linear_model import LinearRegression   ## 회귀 분석\n",
    "from sklearn.linear_model import LogisticRegression ## Logistic Regression\n",
    "from sklearn.ensemble import RandomForestRegressor  ## RandomForet\n",
    "\n",
    "import lightgbm as lgb\n",
    "from sklearn.multioutput import MultiOutputRegressor  ## MultiOutputRegressor\n",
    "\n",
    "from sklearn.metrics import accuracy_score     ## 정확도 검증"
   ]
  },
  {
   "cell_type": "code",
   "execution_count": 2,
   "metadata": {},
   "outputs": [],
   "source": [
    "import numpy as np\n",
    "import pandas as pd\n",
    "import matplotlib.pyplot as plt\n",
    "import seaborn as sns"
   ]
  },
  {
   "cell_type": "code",
   "execution_count": 3,
   "metadata": {},
   "outputs": [],
   "source": [
    "# 데이터 로드\n",
    "test_data2 = pd.read_csv('C:/Users/admin/Desktop/개별1/data/test2.csv')\n",
    "train_data2 = pd.read_csv('C:/Users/admin/Desktop/개별1/data/train2.csv')\n",
    "sample_data = pd.read_csv('C:/Users/admin/Desktop/개별1/data/sample_submission.csv')"
   ]
  },
  {
   "cell_type": "code",
   "execution_count": 4,
   "metadata": {},
   "outputs": [],
   "source": [
    "test_data = pd.read_csv('C:/Users/admin/Desktop/개별1/data/test.csv')\n",
    "train_data = pd.read_csv('C:/Users/admin/Desktop/개별1/data/train.csv')"
   ]
  },
  {
   "cell_type": "code",
   "execution_count": 5,
   "metadata": {},
   "outputs": [],
   "source": [
    "## train, test set 설정\n",
    "\n",
    "train_X = train_data.iloc[:,4:]\n",
    "train_Y = train_data.iloc[:,0:4]\n",
    "test_X = test_data.iloc[:,1:]"
   ]
  },
  {
   "cell_type": "code",
   "execution_count": 14,
   "metadata": {},
   "outputs": [
    {
     "data": {
      "text/html": [
       "<div>\n",
       "<style scoped>\n",
       "    .dataframe tbody tr th:only-of-type {\n",
       "        vertical-align: middle;\n",
       "    }\n",
       "\n",
       "    .dataframe tbody tr th {\n",
       "        vertical-align: top;\n",
       "    }\n",
       "\n",
       "    .dataframe thead th {\n",
       "        text-align: right;\n",
       "    }\n",
       "</style>\n",
       "<table border=\"1\" class=\"dataframe\">\n",
       "  <thead>\n",
       "    <tr style=\"text-align: right;\">\n",
       "      <th></th>\n",
       "      <th>0</th>\n",
       "      <th>1</th>\n",
       "      <th>2</th>\n",
       "      <th>3</th>\n",
       "      <th>4</th>\n",
       "      <th>5</th>\n",
       "      <th>6</th>\n",
       "      <th>7</th>\n",
       "      <th>8</th>\n",
       "      <th>9</th>\n",
       "      <th>...</th>\n",
       "      <th>216</th>\n",
       "      <th>217</th>\n",
       "      <th>218</th>\n",
       "      <th>219</th>\n",
       "      <th>220</th>\n",
       "      <th>221</th>\n",
       "      <th>222</th>\n",
       "      <th>223</th>\n",
       "      <th>224</th>\n",
       "      <th>225</th>\n",
       "    </tr>\n",
       "  </thead>\n",
       "  <tbody>\n",
       "    <tr>\n",
       "      <th>0</th>\n",
       "      <td>0.254551</td>\n",
       "      <td>0.258823</td>\n",
       "      <td>0.254659</td>\n",
       "      <td>0.252085</td>\n",
       "      <td>0.247678</td>\n",
       "      <td>0.253614</td>\n",
       "      <td>0.246511</td>\n",
       "      <td>0.259407</td>\n",
       "      <td>0.260862</td>\n",
       "      <td>0.242524</td>\n",
       "      <td>...</td>\n",
       "      <td>0.354750</td>\n",
       "      <td>0.369223</td>\n",
       "      <td>0.388184</td>\n",
       "      <td>0.408496</td>\n",
       "      <td>0.414564</td>\n",
       "      <td>0.429403</td>\n",
       "      <td>0.419225</td>\n",
       "      <td>0.443250</td>\n",
       "      <td>0.433414</td>\n",
       "      <td>0.465502</td>\n",
       "    </tr>\n",
       "    <tr>\n",
       "      <th>1</th>\n",
       "      <td>0.205062</td>\n",
       "      <td>0.225544</td>\n",
       "      <td>0.217758</td>\n",
       "      <td>0.202169</td>\n",
       "      <td>0.199633</td>\n",
       "      <td>0.207380</td>\n",
       "      <td>0.191318</td>\n",
       "      <td>0.195369</td>\n",
       "      <td>0.200536</td>\n",
       "      <td>0.197588</td>\n",
       "      <td>...</td>\n",
       "      <td>0.557203</td>\n",
       "      <td>0.573656</td>\n",
       "      <td>0.587998</td>\n",
       "      <td>0.612754</td>\n",
       "      <td>0.627825</td>\n",
       "      <td>0.633393</td>\n",
       "      <td>0.637706</td>\n",
       "      <td>0.625981</td>\n",
       "      <td>0.653231</td>\n",
       "      <td>0.637853</td>\n",
       "    </tr>\n",
       "    <tr>\n",
       "      <th>2</th>\n",
       "      <td>0.189196</td>\n",
       "      <td>0.165869</td>\n",
       "      <td>0.177655</td>\n",
       "      <td>0.156822</td>\n",
       "      <td>0.175094</td>\n",
       "      <td>0.177755</td>\n",
       "      <td>0.157582</td>\n",
       "      <td>0.158885</td>\n",
       "      <td>0.156911</td>\n",
       "      <td>0.166162</td>\n",
       "      <td>...</td>\n",
       "      <td>0.699864</td>\n",
       "      <td>0.708688</td>\n",
       "      <td>0.721982</td>\n",
       "      <td>0.713464</td>\n",
       "      <td>0.743030</td>\n",
       "      <td>0.741709</td>\n",
       "      <td>0.747743</td>\n",
       "      <td>0.746037</td>\n",
       "      <td>0.737356</td>\n",
       "      <td>0.750391</td>\n",
       "    </tr>\n",
       "    <tr>\n",
       "      <th>3</th>\n",
       "      <td>0.131003</td>\n",
       "      <td>0.120076</td>\n",
       "      <td>0.138975</td>\n",
       "      <td>0.117931</td>\n",
       "      <td>0.130566</td>\n",
       "      <td>0.131262</td>\n",
       "      <td>0.126962</td>\n",
       "      <td>0.134453</td>\n",
       "      <td>0.106717</td>\n",
       "      <td>0.127309</td>\n",
       "      <td>...</td>\n",
       "      <td>0.764786</td>\n",
       "      <td>0.763788</td>\n",
       "      <td>0.770017</td>\n",
       "      <td>0.787571</td>\n",
       "      <td>0.778866</td>\n",
       "      <td>0.776969</td>\n",
       "      <td>0.774712</td>\n",
       "      <td>0.801526</td>\n",
       "      <td>0.805305</td>\n",
       "      <td>0.784057</td>\n",
       "    </tr>\n",
       "    <tr>\n",
       "      <th>4</th>\n",
       "      <td>0.091033</td>\n",
       "      <td>0.086893</td>\n",
       "      <td>0.108125</td>\n",
       "      <td>0.080405</td>\n",
       "      <td>0.105917</td>\n",
       "      <td>0.077083</td>\n",
       "      <td>0.097895</td>\n",
       "      <td>0.086765</td>\n",
       "      <td>0.078676</td>\n",
       "      <td>0.075729</td>\n",
       "      <td>...</td>\n",
       "      <td>0.786677</td>\n",
       "      <td>0.802271</td>\n",
       "      <td>0.806557</td>\n",
       "      <td>0.799614</td>\n",
       "      <td>0.789333</td>\n",
       "      <td>0.804087</td>\n",
       "      <td>0.787763</td>\n",
       "      <td>0.794948</td>\n",
       "      <td>0.819105</td>\n",
       "      <td>0.801781</td>\n",
       "    </tr>\n",
       "  </tbody>\n",
       "</table>\n",
       "<p>5 rows × 226 columns</p>\n",
       "</div>"
      ],
      "text/plain": [
       "          0         1         2         3         4         5         6  \\\n",
       "0  0.254551  0.258823  0.254659  0.252085  0.247678  0.253614  0.246511   \n",
       "1  0.205062  0.225544  0.217758  0.202169  0.199633  0.207380  0.191318   \n",
       "2  0.189196  0.165869  0.177655  0.156822  0.175094  0.177755  0.157582   \n",
       "3  0.131003  0.120076  0.138975  0.117931  0.130566  0.131262  0.126962   \n",
       "4  0.091033  0.086893  0.108125  0.080405  0.105917  0.077083  0.097895   \n",
       "\n",
       "          7         8         9  ...       216       217       218       219  \\\n",
       "0  0.259407  0.260862  0.242524  ...  0.354750  0.369223  0.388184  0.408496   \n",
       "1  0.195369  0.200536  0.197588  ...  0.557203  0.573656  0.587998  0.612754   \n",
       "2  0.158885  0.156911  0.166162  ...  0.699864  0.708688  0.721982  0.713464   \n",
       "3  0.134453  0.106717  0.127309  ...  0.764786  0.763788  0.770017  0.787571   \n",
       "4  0.086765  0.078676  0.075729  ...  0.786677  0.802271  0.806557  0.799614   \n",
       "\n",
       "        220       221       222       223       224       225  \n",
       "0  0.414564  0.429403  0.419225  0.443250  0.433414  0.465502  \n",
       "1  0.627825  0.633393  0.637706  0.625981  0.653231  0.637853  \n",
       "2  0.743030  0.741709  0.747743  0.746037  0.737356  0.750391  \n",
       "3  0.778866  0.776969  0.774712  0.801526  0.805305  0.784057  \n",
       "4  0.789333  0.804087  0.787763  0.794948  0.819105  0.801781  \n",
       "\n",
       "[5 rows x 226 columns]"
      ]
     },
     "execution_count": 14,
     "metadata": {},
     "output_type": "execute_result"
    }
   ],
   "source": [
    "train_X.head()"
   ]
  },
  {
   "cell_type": "code",
   "execution_count": 15,
   "metadata": {},
   "outputs": [
    {
     "data": {
      "text/html": [
       "<div>\n",
       "<style scoped>\n",
       "    .dataframe tbody tr th:only-of-type {\n",
       "        vertical-align: middle;\n",
       "    }\n",
       "\n",
       "    .dataframe tbody tr th {\n",
       "        vertical-align: top;\n",
       "    }\n",
       "\n",
       "    .dataframe thead th {\n",
       "        text-align: right;\n",
       "    }\n",
       "</style>\n",
       "<table border=\"1\" class=\"dataframe\">\n",
       "  <thead>\n",
       "    <tr style=\"text-align: right;\">\n",
       "      <th></th>\n",
       "      <th>layer_1</th>\n",
       "      <th>layer_2</th>\n",
       "      <th>layer_3</th>\n",
       "      <th>layer_4</th>\n",
       "    </tr>\n",
       "  </thead>\n",
       "  <tbody>\n",
       "    <tr>\n",
       "      <th>0</th>\n",
       "      <td>10</td>\n",
       "      <td>10</td>\n",
       "      <td>10</td>\n",
       "      <td>10</td>\n",
       "    </tr>\n",
       "    <tr>\n",
       "      <th>1</th>\n",
       "      <td>10</td>\n",
       "      <td>10</td>\n",
       "      <td>10</td>\n",
       "      <td>20</td>\n",
       "    </tr>\n",
       "    <tr>\n",
       "      <th>2</th>\n",
       "      <td>10</td>\n",
       "      <td>10</td>\n",
       "      <td>10</td>\n",
       "      <td>30</td>\n",
       "    </tr>\n",
       "    <tr>\n",
       "      <th>3</th>\n",
       "      <td>10</td>\n",
       "      <td>10</td>\n",
       "      <td>10</td>\n",
       "      <td>40</td>\n",
       "    </tr>\n",
       "    <tr>\n",
       "      <th>4</th>\n",
       "      <td>10</td>\n",
       "      <td>10</td>\n",
       "      <td>10</td>\n",
       "      <td>50</td>\n",
       "    </tr>\n",
       "  </tbody>\n",
       "</table>\n",
       "</div>"
      ],
      "text/plain": [
       "   layer_1  layer_2  layer_3  layer_4\n",
       "0       10       10       10       10\n",
       "1       10       10       10       20\n",
       "2       10       10       10       30\n",
       "3       10       10       10       40\n",
       "4       10       10       10       50"
      ]
     },
     "execution_count": 15,
     "metadata": {},
     "output_type": "execute_result"
    }
   ],
   "source": [
    "train_Y.head()"
   ]
  },
  {
   "cell_type": "code",
   "execution_count": 18,
   "metadata": {},
   "outputs": [
    {
     "data": {
      "text/html": [
       "<div>\n",
       "<style scoped>\n",
       "    .dataframe tbody tr th:only-of-type {\n",
       "        vertical-align: middle;\n",
       "    }\n",
       "\n",
       "    .dataframe tbody tr th {\n",
       "        vertical-align: top;\n",
       "    }\n",
       "\n",
       "    .dataframe thead th {\n",
       "        text-align: right;\n",
       "    }\n",
       "</style>\n",
       "<table border=\"1\" class=\"dataframe\">\n",
       "  <thead>\n",
       "    <tr style=\"text-align: right;\">\n",
       "      <th></th>\n",
       "      <th>0</th>\n",
       "      <th>1</th>\n",
       "      <th>2</th>\n",
       "      <th>3</th>\n",
       "      <th>4</th>\n",
       "      <th>5</th>\n",
       "      <th>6</th>\n",
       "      <th>7</th>\n",
       "      <th>8</th>\n",
       "      <th>9</th>\n",
       "      <th>...</th>\n",
       "      <th>216</th>\n",
       "      <th>217</th>\n",
       "      <th>218</th>\n",
       "      <th>219</th>\n",
       "      <th>220</th>\n",
       "      <th>221</th>\n",
       "      <th>222</th>\n",
       "      <th>223</th>\n",
       "      <th>224</th>\n",
       "      <th>225</th>\n",
       "    </tr>\n",
       "  </thead>\n",
       "  <tbody>\n",
       "    <tr>\n",
       "      <th>0</th>\n",
       "      <td>0.535410</td>\n",
       "      <td>0.520775</td>\n",
       "      <td>0.494087</td>\n",
       "      <td>0.465134</td>\n",
       "      <td>0.430339</td>\n",
       "      <td>0.401751</td>\n",
       "      <td>0.355986</td>\n",
       "      <td>0.326427</td>\n",
       "      <td>0.282340</td>\n",
       "      <td>0.216756</td>\n",
       "      <td>...</td>\n",
       "      <td>0.748339</td>\n",
       "      <td>0.757575</td>\n",
       "      <td>0.768130</td>\n",
       "      <td>0.777062</td>\n",
       "      <td>0.769173</td>\n",
       "      <td>0.768253</td>\n",
       "      <td>0.738704</td>\n",
       "      <td>0.739460</td>\n",
       "      <td>0.702139</td>\n",
       "      <td>0.702238</td>\n",
       "    </tr>\n",
       "    <tr>\n",
       "      <th>1</th>\n",
       "      <td>0.351099</td>\n",
       "      <td>0.398179</td>\n",
       "      <td>0.413809</td>\n",
       "      <td>0.418529</td>\n",
       "      <td>0.433257</td>\n",
       "      <td>0.455410</td>\n",
       "      <td>0.451065</td>\n",
       "      <td>0.464230</td>\n",
       "      <td>0.476011</td>\n",
       "      <td>0.477219</td>\n",
       "      <td>...</td>\n",
       "      <td>0.333931</td>\n",
       "      <td>0.276307</td>\n",
       "      <td>0.211513</td>\n",
       "      <td>0.159223</td>\n",
       "      <td>0.110982</td>\n",
       "      <td>0.083130</td>\n",
       "      <td>0.099780</td>\n",
       "      <td>0.145420</td>\n",
       "      <td>0.260501</td>\n",
       "      <td>0.343857</td>\n",
       "    </tr>\n",
       "    <tr>\n",
       "      <th>2</th>\n",
       "      <td>0.490537</td>\n",
       "      <td>0.435958</td>\n",
       "      <td>0.413428</td>\n",
       "      <td>0.355796</td>\n",
       "      <td>0.335777</td>\n",
       "      <td>0.299944</td>\n",
       "      <td>0.242745</td>\n",
       "      <td>0.210555</td>\n",
       "      <td>0.180739</td>\n",
       "      <td>0.169717</td>\n",
       "      <td>...</td>\n",
       "      <td>0.709371</td>\n",
       "      <td>0.746826</td>\n",
       "      <td>0.781436</td>\n",
       "      <td>0.788292</td>\n",
       "      <td>0.828630</td>\n",
       "      <td>0.835166</td>\n",
       "      <td>0.845859</td>\n",
       "      <td>0.846032</td>\n",
       "      <td>0.836724</td>\n",
       "      <td>0.846779</td>\n",
       "    </tr>\n",
       "    <tr>\n",
       "      <th>3</th>\n",
       "      <td>0.051634</td>\n",
       "      <td>0.075802</td>\n",
       "      <td>0.133983</td>\n",
       "      <td>0.154546</td>\n",
       "      <td>0.209387</td>\n",
       "      <td>0.251700</td>\n",
       "      <td>0.287552</td>\n",
       "      <td>0.333000</td>\n",
       "      <td>0.340617</td>\n",
       "      <td>0.393592</td>\n",
       "      <td>...</td>\n",
       "      <td>0.075046</td>\n",
       "      <td>0.056651</td>\n",
       "      <td>0.079884</td>\n",
       "      <td>0.147469</td>\n",
       "      <td>0.213112</td>\n",
       "      <td>0.298096</td>\n",
       "      <td>0.382823</td>\n",
       "      <td>0.489381</td>\n",
       "      <td>0.562383</td>\n",
       "      <td>0.599247</td>\n",
       "    </tr>\n",
       "    <tr>\n",
       "      <th>4</th>\n",
       "      <td>0.154031</td>\n",
       "      <td>0.201728</td>\n",
       "      <td>0.270414</td>\n",
       "      <td>0.283799</td>\n",
       "      <td>0.343050</td>\n",
       "      <td>0.340233</td>\n",
       "      <td>0.379244</td>\n",
       "      <td>0.378511</td>\n",
       "      <td>0.373017</td>\n",
       "      <td>0.364702</td>\n",
       "      <td>...</td>\n",
       "      <td>0.255070</td>\n",
       "      <td>0.242396</td>\n",
       "      <td>0.271287</td>\n",
       "      <td>0.328828</td>\n",
       "      <td>0.397950</td>\n",
       "      <td>0.486436</td>\n",
       "      <td>0.530573</td>\n",
       "      <td>0.582752</td>\n",
       "      <td>0.637296</td>\n",
       "      <td>0.637238</td>\n",
       "    </tr>\n",
       "  </tbody>\n",
       "</table>\n",
       "<p>5 rows × 226 columns</p>\n",
       "</div>"
      ],
      "text/plain": [
       "          0         1         2         3         4         5         6  \\\n",
       "0  0.535410  0.520775  0.494087  0.465134  0.430339  0.401751  0.355986   \n",
       "1  0.351099  0.398179  0.413809  0.418529  0.433257  0.455410  0.451065   \n",
       "2  0.490537  0.435958  0.413428  0.355796  0.335777  0.299944  0.242745   \n",
       "3  0.051634  0.075802  0.133983  0.154546  0.209387  0.251700  0.287552   \n",
       "4  0.154031  0.201728  0.270414  0.283799  0.343050  0.340233  0.379244   \n",
       "\n",
       "          7         8         9  ...       216       217       218       219  \\\n",
       "0  0.326427  0.282340  0.216756  ...  0.748339  0.757575  0.768130  0.777062   \n",
       "1  0.464230  0.476011  0.477219  ...  0.333931  0.276307  0.211513  0.159223   \n",
       "2  0.210555  0.180739  0.169717  ...  0.709371  0.746826  0.781436  0.788292   \n",
       "3  0.333000  0.340617  0.393592  ...  0.075046  0.056651  0.079884  0.147469   \n",
       "4  0.378511  0.373017  0.364702  ...  0.255070  0.242396  0.271287  0.328828   \n",
       "\n",
       "        220       221       222       223       224       225  \n",
       "0  0.769173  0.768253  0.738704  0.739460  0.702139  0.702238  \n",
       "1  0.110982  0.083130  0.099780  0.145420  0.260501  0.343857  \n",
       "2  0.828630  0.835166  0.845859  0.846032  0.836724  0.846779  \n",
       "3  0.213112  0.298096  0.382823  0.489381  0.562383  0.599247  \n",
       "4  0.397950  0.486436  0.530573  0.582752  0.637296  0.637238  \n",
       "\n",
       "[5 rows x 226 columns]"
      ]
     },
     "execution_count": 18,
     "metadata": {},
     "output_type": "execute_result"
    }
   ],
   "source": [
    "test_X.head()"
   ]
  },
  {
   "cell_type": "code",
   "execution_count": 6,
   "metadata": {},
   "outputs": [],
   "source": [
    "lr = LinearRegression()\n",
    "model = lgb.LGBMRegressor()\n",
    "mor = MultiOutputRegressor(model)"
   ]
  },
  {
   "cell_type": "code",
   "execution_count": 7,
   "metadata": {},
   "outputs": [
    {
     "data": {
      "text/plain": [
       "0.016982162376515703"
      ]
     },
     "execution_count": 7,
     "metadata": {},
     "output_type": "execute_result"
    }
   ],
   "source": [
    "# LinearRegression 결과\n",
    "\n",
    "lr.fit(train_X, train_Y)\n",
    "lr.score(train_X, train_Y)"
   ]
  },
  {
   "cell_type": "code",
   "execution_count": 8,
   "metadata": {},
   "outputs": [
    {
     "data": {
      "text/plain": [
       "0.4456092977489152"
      ]
     },
     "execution_count": 8,
     "metadata": {},
     "output_type": "execute_result"
    }
   ],
   "source": [
    "# MultiOutputRegressor 결과\n",
    "\n",
    "mor.fit(train_X, train_Y)\n",
    "mor.score(train_X, train_Y)"
   ]
  },
  {
   "cell_type": "markdown",
   "metadata": {},
   "source": [
    "## 음수 처리 후"
   ]
  },
  {
   "cell_type": "code",
   "execution_count": 9,
   "metadata": {},
   "outputs": [],
   "source": [
    "## train, test set 설정\n",
    "\n",
    "train_X = train_data2.iloc[:,4:]\n",
    "train_Y = train_data2.iloc[:,0:4]\n",
    "test_X = test_data2.iloc[:,1:]\n",
    "test_Y = sample_data.iloc[:,1:]"
   ]
  },
  {
   "cell_type": "code",
   "execution_count": 10,
   "metadata": {},
   "outputs": [],
   "source": [
    "## 모델 생성\n",
    "\n",
    "lr = LinearRegression()\n",
    "model = lgb.LGBMRegressor()\n",
    "mor = MultiOutputRegressor(model)"
   ]
  },
  {
   "cell_type": "code",
   "execution_count": 11,
   "metadata": {},
   "outputs": [
    {
     "data": {
      "text/plain": [
       "0.01707591187915211"
      ]
     },
     "execution_count": 11,
     "metadata": {},
     "output_type": "execute_result"
    }
   ],
   "source": [
    "# LinearRegression 결과\n",
    "\n",
    "lr.fit(train_X, train_Y)\n",
    "lr.score(train_X, train_Y)"
   ]
  },
  {
   "cell_type": "code",
   "execution_count": 12,
   "metadata": {},
   "outputs": [
    {
     "data": {
      "text/plain": [
       "array([[157.20621621, 150.72990744, 160.66644905, 128.10206544],\n",
       "       [164.10766711, 152.79130847, 163.22790159, 163.56063056],\n",
       "       [145.46272158, 153.48905131, 156.4262556 , 133.28413278],\n",
       "       ...,\n",
       "       [144.90898784, 158.46420108, 148.33675488, 160.64440435],\n",
       "       [145.96971777, 160.39291815, 152.11176244, 185.8683756 ],\n",
       "       [156.26051752, 170.65030331, 151.71630938, 207.50052979]])"
      ]
     },
     "execution_count": 12,
     "metadata": {},
     "output_type": "execute_result"
    }
   ],
   "source": [
    "lr_y_preds = lr.predict(test_X)\n",
    "lr_y_preds"
   ]
  },
  {
   "cell_type": "code",
   "execution_count": 17,
   "metadata": {},
   "outputs": [
    {
     "data": {
      "text/plain": [
       "0.44343734945399443"
      ]
     },
     "execution_count": 17,
     "metadata": {},
     "output_type": "execute_result"
    }
   ],
   "source": [
    "# MultiOutputRegressor 결과\n",
    "\n",
    "mor.fit(train_X, train_Y)\n",
    "mor.score(train_X, train_Y)"
   ]
  },
  {
   "cell_type": "code",
   "execution_count": 19,
   "metadata": {},
   "outputs": [
    {
     "data": {
      "text/plain": [
       "array([[226.83295111, 200.06059893, 178.27941502, 130.01457194],\n",
       "       [127.75749124, 145.05996415, 197.09375601, 127.01076159],\n",
       "       [194.08164104, 170.95428633, 240.8348393 , 144.2489526 ],\n",
       "       ...,\n",
       "       [100.46899304, 166.33201976, 189.91331168, 156.05877885],\n",
       "       [ 91.14505989, 100.11456214,  84.20675421, 145.49143079],\n",
       "       [ 89.26104936, 109.13362355,  65.56431095, 110.13449309]])"
      ]
     },
     "execution_count": 19,
     "metadata": {},
     "output_type": "execute_result"
    }
   ],
   "source": [
    "mor_y_preds = mor.predict(test_X)\n",
    "mor_y_preds"
   ]
  },
  {
   "cell_type": "code",
   "execution_count": 20,
   "metadata": {},
   "outputs": [],
   "source": [
    "sample_data['layer_1'] = mor_y_preds[:,0]\n",
    "sample_data['layer_2'] = mor_y_preds[:,1]\n",
    "sample_data['layer_3'] = mor_y_preds[:,2]\n",
    "sample_data['layer_4'] = mor_y_preds[:,3]"
   ]
  },
  {
   "cell_type": "code",
   "execution_count": 21,
   "metadata": {},
   "outputs": [],
   "source": [
    "mor_layer_pre = sample_data"
   ]
  },
  {
   "cell_type": "code",
   "execution_count": 22,
   "metadata": {},
   "outputs": [
    {
     "data": {
      "text/html": [
       "<div>\n",
       "<style scoped>\n",
       "    .dataframe tbody tr th:only-of-type {\n",
       "        vertical-align: middle;\n",
       "    }\n",
       "\n",
       "    .dataframe tbody tr th {\n",
       "        vertical-align: top;\n",
       "    }\n",
       "\n",
       "    .dataframe thead th {\n",
       "        text-align: right;\n",
       "    }\n",
       "</style>\n",
       "<table border=\"1\" class=\"dataframe\">\n",
       "  <thead>\n",
       "    <tr style=\"text-align: right;\">\n",
       "      <th></th>\n",
       "      <th>id</th>\n",
       "      <th>layer_1</th>\n",
       "      <th>layer_2</th>\n",
       "      <th>layer_3</th>\n",
       "      <th>layer_4</th>\n",
       "    </tr>\n",
       "  </thead>\n",
       "  <tbody>\n",
       "    <tr>\n",
       "      <th>0</th>\n",
       "      <td>0</td>\n",
       "      <td>226.832951</td>\n",
       "      <td>200.060599</td>\n",
       "      <td>178.279415</td>\n",
       "      <td>130.014572</td>\n",
       "    </tr>\n",
       "    <tr>\n",
       "      <th>1</th>\n",
       "      <td>1</td>\n",
       "      <td>127.757491</td>\n",
       "      <td>145.059964</td>\n",
       "      <td>197.093756</td>\n",
       "      <td>127.010762</td>\n",
       "    </tr>\n",
       "    <tr>\n",
       "      <th>2</th>\n",
       "      <td>2</td>\n",
       "      <td>194.081641</td>\n",
       "      <td>170.954286</td>\n",
       "      <td>240.834839</td>\n",
       "      <td>144.248953</td>\n",
       "    </tr>\n",
       "    <tr>\n",
       "      <th>3</th>\n",
       "      <td>3</td>\n",
       "      <td>127.213469</td>\n",
       "      <td>170.942078</td>\n",
       "      <td>138.932526</td>\n",
       "      <td>179.465021</td>\n",
       "    </tr>\n",
       "    <tr>\n",
       "      <th>4</th>\n",
       "      <td>4</td>\n",
       "      <td>254.381349</td>\n",
       "      <td>240.750451</td>\n",
       "      <td>204.456977</td>\n",
       "      <td>227.244964</td>\n",
       "    </tr>\n",
       "    <tr>\n",
       "      <th>...</th>\n",
       "      <td>...</td>\n",
       "      <td>...</td>\n",
       "      <td>...</td>\n",
       "      <td>...</td>\n",
       "      <td>...</td>\n",
       "    </tr>\n",
       "    <tr>\n",
       "      <th>9995</th>\n",
       "      <td>9995</td>\n",
       "      <td>114.296193</td>\n",
       "      <td>110.511561</td>\n",
       "      <td>55.158622</td>\n",
       "      <td>100.153785</td>\n",
       "    </tr>\n",
       "    <tr>\n",
       "      <th>9996</th>\n",
       "      <td>9996</td>\n",
       "      <td>125.110780</td>\n",
       "      <td>130.975162</td>\n",
       "      <td>144.352078</td>\n",
       "      <td>95.775712</td>\n",
       "    </tr>\n",
       "    <tr>\n",
       "      <th>9997</th>\n",
       "      <td>9997</td>\n",
       "      <td>100.468993</td>\n",
       "      <td>166.332020</td>\n",
       "      <td>189.913312</td>\n",
       "      <td>156.058779</td>\n",
       "    </tr>\n",
       "    <tr>\n",
       "      <th>9998</th>\n",
       "      <td>9998</td>\n",
       "      <td>91.145060</td>\n",
       "      <td>100.114562</td>\n",
       "      <td>84.206754</td>\n",
       "      <td>145.491431</td>\n",
       "    </tr>\n",
       "    <tr>\n",
       "      <th>9999</th>\n",
       "      <td>9999</td>\n",
       "      <td>89.261049</td>\n",
       "      <td>109.133624</td>\n",
       "      <td>65.564311</td>\n",
       "      <td>110.134493</td>\n",
       "    </tr>\n",
       "  </tbody>\n",
       "</table>\n",
       "<p>10000 rows × 5 columns</p>\n",
       "</div>"
      ],
      "text/plain": [
       "        id     layer_1     layer_2     layer_3     layer_4\n",
       "0        0  226.832951  200.060599  178.279415  130.014572\n",
       "1        1  127.757491  145.059964  197.093756  127.010762\n",
       "2        2  194.081641  170.954286  240.834839  144.248953\n",
       "3        3  127.213469  170.942078  138.932526  179.465021\n",
       "4        4  254.381349  240.750451  204.456977  227.244964\n",
       "...    ...         ...         ...         ...         ...\n",
       "9995  9995  114.296193  110.511561   55.158622  100.153785\n",
       "9996  9996  125.110780  130.975162  144.352078   95.775712\n",
       "9997  9997  100.468993  166.332020  189.913312  156.058779\n",
       "9998  9998   91.145060  100.114562   84.206754  145.491431\n",
       "9999  9999   89.261049  109.133624   65.564311  110.134493\n",
       "\n",
       "[10000 rows x 5 columns]"
      ]
     },
     "execution_count": 22,
     "metadata": {},
     "output_type": "execute_result"
    }
   ],
   "source": [
    "mor_layer_pre"
   ]
  },
  {
   "cell_type": "code",
   "execution_count": null,
   "metadata": {},
   "outputs": [],
   "source": [
    "mor_layer_pre.to_csv('C:/Users/admin/Desktop/개별1/data/mor_layer_m.csv', header=['id','layer_1','layer_2','layer_3','layer_4'], index=False)"
   ]
  },
  {
   "cell_type": "code",
   "execution_count": null,
   "metadata": {},
   "outputs": [],
   "source": [
    "from sklearn.tree import DecisionTreeRegressor"
   ]
  },
  {
   "cell_type": "code",
   "execution_count": null,
   "metadata": {},
   "outputs": [],
   "source": [
    "# DecisionTreeRegressor 결과\n",
    "\n",
    "dr = DecisionTreeRegressor()\n",
    "dr.fit(train_X, train_Y)\n",
    "dr.score(train_X, train_Y)"
   ]
  },
  {
   "cell_type": "markdown",
   "metadata": {},
   "source": [
    "## StandardScaler"
   ]
  },
  {
   "cell_type": "code",
   "execution_count": 23,
   "metadata": {},
   "outputs": [],
   "source": [
    "from sklearn.preprocessing import StandardScaler\n",
    "\n",
    "standardscaler = StandardScaler()"
   ]
  },
  {
   "cell_type": "code",
   "execution_count": 25,
   "metadata": {},
   "outputs": [
    {
     "data": {
      "text/plain": [
       "StandardScaler()"
      ]
     },
     "execution_count": 25,
     "metadata": {},
     "output_type": "execute_result"
    }
   ],
   "source": [
    "standardscaler.fit(train_X)"
   ]
  },
  {
   "cell_type": "code",
   "execution_count": 26,
   "metadata": {},
   "outputs": [],
   "source": [
    "train_X_scaled = standardscaler.transform(train_X)"
   ]
  },
  {
   "cell_type": "code",
   "execution_count": 27,
   "metadata": {},
   "outputs": [
    {
     "data": {
      "text/plain": [
       "array([[-0.21146564, -0.18901868, -0.2130855 , ..., -0.95524602,\n",
       "        -1.01880781, -0.86781448],\n",
       "       [-0.4844602 , -0.37238127, -0.41620128, ..., -0.01558695,\n",
       "         0.11358578,  0.02193628],\n",
       "       [-0.57198424, -0.70118139, -0.63693977, ...,  0.60177912,\n",
       "         0.54695651,  0.60290247],\n",
       "       ...,\n",
       "       [-0.19803518, -0.31313521, -0.59367687, ..., -0.09429971,\n",
       "        -0.62549773, -1.28969276],\n",
       "       [-0.4366491 , -0.63979508, -0.92241466, ..., -1.89933498,\n",
       "        -2.45957149, -2.60239403],\n",
       "       [-0.81428408, -1.09338757, -1.23769394, ..., -2.0863753 ,\n",
       "        -1.44686994, -0.68946718]])"
      ]
     },
     "execution_count": 27,
     "metadata": {},
     "output_type": "execute_result"
    }
   ],
   "source": [
    "train_X_scaled"
   ]
  },
  {
   "cell_type": "code",
   "execution_count": 28,
   "metadata": {},
   "outputs": [],
   "source": [
    "train_X_scaled = pd.DataFrame(train_X_scaled)"
   ]
  },
  {
   "cell_type": "code",
   "execution_count": 30,
   "metadata": {},
   "outputs": [
    {
     "data": {
      "text/plain": [
       "0.4442751879563733"
      ]
     },
     "execution_count": 30,
     "metadata": {},
     "output_type": "execute_result"
    }
   ],
   "source": [
    "# MultiOutputRegressor 결과\n",
    "\n",
    "mor.fit(train_X_scaled, train_Y)\n",
    "mor.score(train_X_scaled, train_Y)"
   ]
  }
 ],
 "metadata": {
  "kernelspec": {
   "display_name": "Python 3",
   "language": "python",
   "name": "python3"
  },
  "language_info": {
   "codemirror_mode": {
    "name": "ipython",
    "version": 3
   },
   "file_extension": ".py",
   "mimetype": "text/x-python",
   "name": "python",
   "nbconvert_exporter": "python",
   "pygments_lexer": "ipython3",
   "version": "3.8.5"
  }
 },
 "nbformat": 4,
 "nbformat_minor": 5
}
